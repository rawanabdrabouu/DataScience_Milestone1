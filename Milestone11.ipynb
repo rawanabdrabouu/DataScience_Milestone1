{
 "cells": [
  {
   "cell_type": "code",
   "execution_count": 18,
   "metadata": {},
   "outputs": [
    {
     "name": "stdout",
     "output_type": "stream",
     "text": [
      "   Unnamed: 0  work_year experience_level employment_type  \\\n",
      "0           0       2020               MI              FT   \n",
      "1           1       2020               SE              FT   \n",
      "2           2       2020               SE              FT   \n",
      "3           3       2020               MI              FT   \n",
      "4           4       2020               SE              FT   \n",
      "5           5       2020               EN              FT   \n",
      "6           6       2020               SE              FT   \n",
      "7           7       2020               MI              FT   \n",
      "8           8       2020               MI              FT   \n",
      "9           9       2020               SE              FT   \n",
      "\n",
      "                    job_title    salary salary_currency  salary_in_usd  \\\n",
      "0              Data Scientist     70000             EUR          79833   \n",
      "1  Machine Learning Scientist    260000             USD         260000   \n",
      "2           Big Data Engineer     85000             GBP         109024   \n",
      "3        Product Data Analyst     20000             USD          20000   \n",
      "4   Machine Learning Engineer    150000             USD         150000   \n",
      "5                Data Analyst     72000             USD          72000   \n",
      "6         Lead Data Scientist    190000             USD         190000   \n",
      "7              Data Scientist  11000000             HUF          35735   \n",
      "8       Business Data Analyst    135000             USD         135000   \n",
      "9          Lead Data Engineer    125000             USD         125000   \n",
      "\n",
      "  employee_residence  remote_ratio company_location company_size  \n",
      "0                 DE             0               DE            L  \n",
      "1                 JP             0               JP            S  \n",
      "2                 GB            50               GB            M  \n",
      "3                 HN             0               HN            S  \n",
      "4                 US            50               US            L  \n",
      "5                 US           100               US            L  \n",
      "6                 US           100               US            S  \n",
      "7                 HU            50               HU            L  \n",
      "8                 US           100               US            L  \n",
      "9                 NZ            50               NZ            S  \n"
     ]
    }
   ],
   "source": [
    "import pandas as pd\n",
    "import numpy as np\n",
    "#show first 10 rows\n",
    "data = pd.read_csv('ds_salaries.csv')\n",
    "result = data.head(10)\n",
    "print(result)\n"
   ]
  },
  {
   "cell_type": "code",
   "execution_count": 2,
   "metadata": {},
   "outputs": [
    {
     "name": "stdout",
     "output_type": "stream",
     "text": [
      "     Unnamed: 0  work_year experience_level employment_type  \\\n",
      "0             0       2020               MI              FT   \n",
      "1             1       2020               SE              FT   \n",
      "2             2       2020               SE              FT   \n",
      "3             3       2020               MI              FT   \n",
      "4             4       2020               SE              FT   \n",
      "..          ...        ...              ...             ...   \n",
      "592         592       2022               SE              FT   \n",
      "593         593       2022               SE              FT   \n",
      "594         594       2022               SE              FT   \n",
      "595         595       2022               SE              FT   \n",
      "596         596       2022               SE              FT   \n",
      "\n",
      "                      job_title  salary salary_currency  salary_in_usd  \\\n",
      "0                Data Scientist   70000             EUR          79833   \n",
      "1    Machine Learning Scientist  260000             USD         260000   \n",
      "2             Big Data Engineer   85000             GBP         109024   \n",
      "3          Product Data Analyst   20000             USD          20000   \n",
      "4     Machine Learning Engineer  150000             USD         150000   \n",
      "..                          ...     ...             ...            ...   \n",
      "592              Data Scientist  230000             USD         230000   \n",
      "593              Data Scientist  150000             USD         150000   \n",
      "594      Data Analytics Manager  150260             USD         150260   \n",
      "595      Data Analytics Manager  109280             USD         109280   \n",
      "596              Data Scientist  210000             USD         210000   \n",
      "\n",
      "    employee_residence  remote_ratio company_location company_size  \n",
      "0                   DE             0               DE            L  \n",
      "1                   JP             0               JP            S  \n",
      "2                   GB            50               GB            M  \n",
      "3                   HN             0               HN            S  \n",
      "4                   US            50               US            L  \n",
      "..                 ...           ...              ...          ...  \n",
      "592                 US           100               US            M  \n",
      "593                 US           100               US            M  \n",
      "594                 US           100               US            M  \n",
      "595                 US           100               US            M  \n",
      "596                 US           100               US            M  \n",
      "\n",
      "[597 rows x 12 columns]\n"
     ]
    }
   ],
   "source": [
    "#show last 10 rows\n",
    "result = data.head(-10)\n",
    "print(result)"
   ]
  },
  {
   "cell_type": "code",
   "execution_count": 3,
   "metadata": {},
   "outputs": [
    {
     "name": "stdout",
     "output_type": "stream",
     "text": [
      "607\n",
      "12\n"
     ]
    }
   ],
   "source": [
    "row_count = len(data) # Return number of rows\n",
    "print(row_count)\n",
    "col_count = len(data.columns)#Return number of Coulmns\n",
    "print(col_count)"
   ]
  },
  {
   "cell_type": "code",
   "execution_count": 4,
   "metadata": {},
   "outputs": [
    {
     "name": "stdout",
     "output_type": "stream",
     "text": [
      "Unnamed: 0\n",
      "work_year\n",
      "experience_level\n",
      "employment_type\n",
      "job_title\n",
      "salary\n",
      "salary_currency\n",
      "salary_in_usd\n",
      "employee_residence\n",
      "remote_ratio\n",
      "company_location\n",
      "company_size\n"
     ]
    }
   ],
   "source": [
    "#print coulmns names\n",
    "for col_name in data.columns: \n",
    "    print(col_name)"
   ]
  },
  {
   "cell_type": "code",
   "execution_count": 8,
   "metadata": {},
   "outputs": [
    {
     "data": {
      "text/plain": [
       "'company_size'"
      ]
     },
     "execution_count": 8,
     "metadata": {},
     "output_type": "execute_result"
    }
   ],
   "source": [
    "#last coulmn name\n",
    "data.columns[-1]"
   ]
  },
  {
   "cell_type": "code",
   "execution_count": 10,
   "metadata": {},
   "outputs": [
    {
     "data": {
      "text/plain": [
       "dtype('O')"
      ]
     },
     "execution_count": 10,
     "metadata": {},
     "output_type": "execute_result"
    }
   ],
   "source": [
    "#4th coulmn type\n",
    "data.dtypes[4]\n"
   ]
  },
  {
   "cell_type": "code",
   "execution_count": 21,
   "metadata": {},
   "outputs": [
    {
     "name": "stdout",
     "output_type": "stream",
     "text": [
      "17\n"
     ]
    }
   ],
   "source": [
    "#  how many different types in this column\n",
    "currency=data['salary_currency'].nunique()\n",
    "print(currency)"
   ]
  },
  {
   "cell_type": "code",
   "execution_count": 23,
   "metadata": {},
   "outputs": [
    {
     "name": "stderr",
     "output_type": "stream",
     "text": [
      "C:\\Users\\alaar\\AppData\\Local\\Temp\\ipykernel_5248\\2206931133.py:1: FutureWarning: The default value of numeric_only in DataFrame.mean is deprecated. In a future version, it will default to False. In addition, specifying 'numeric_only=None' is deprecated. Select only valid columns or specify the value of numeric_only to silence this warning.\n",
      "  MEAN= data.mean()\n"
     ]
    },
    {
     "data": {
      "text/plain": [
       "Unnamed: 0          303.000000\n",
       "work_year          2021.405272\n",
       "salary           324000.062603\n",
       "salary_in_usd    112297.869852\n",
       "remote_ratio         70.922570\n",
       "dtype: float64"
      ]
     },
     "execution_count": 23,
     "metadata": {},
     "output_type": "execute_result"
    }
   ],
   "source": [
    "#Mean of every Coulmn \n",
    "MEAN= data.mean()\n",
    "MEAN"
   ]
  },
  {
   "cell_type": "code",
   "execution_count": 24,
   "metadata": {},
   "outputs": [
    {
     "data": {
      "text/plain": [
       "Unnamed: 0          454.5\n",
       "work_year          2022.0\n",
       "salary           165000.0\n",
       "salary_in_usd    150000.0\n",
       "remote_ratio        100.0\n",
       "Name: 0.75, dtype: float64"
      ]
     },
     "execution_count": 24,
     "metadata": {},
     "output_type": "execute_result"
    }
   ],
   "source": [
    "#precentail in 75%\n",
    "Percentile=data.quantile(q=0.75, axis=0,numeric_only=True,interpolation='linear')\n",
    "Percentile"
   ]
  },
  {
   "cell_type": "code",
   "execution_count": 25,
   "metadata": {},
   "outputs": [
    {
     "data": {
      "text/plain": [
       "0    USD\n",
       "Name: salary_currency, dtype: object"
      ]
     },
     "execution_count": 25,
     "metadata": {},
     "output_type": "execute_result"
    }
   ],
   "source": [
    "#mode is the most reapeted coulmn salary currency coulmn\n",
    "ff= data['salary_currency'].mode()\n",
    "ff"
   ]
  },
  {
   "cell_type": "code",
   "execution_count": 26,
   "metadata": {},
   "outputs": [
    {
     "name": "stderr",
     "output_type": "stream",
     "text": [
      "C:\\Users\\alaar\\AppData\\Local\\Temp\\ipykernel_5248\\3258055237.py:1: FutureWarning: The default value of numeric_only in DataFrame.std is deprecated. In a future version, it will default to False. In addition, specifying 'numeric_only=None' is deprecated. Select only valid columns or specify the value of numeric_only to silence this warning.\n",
      "  standard_deviation= data.std()\n"
     ]
    },
    {
     "data": {
      "text/plain": [
       "Unnamed: 0       1.753701e+02\n",
       "work_year        6.921330e-01\n",
       "salary           1.544357e+06\n",
       "salary_in_usd    7.095726e+04\n",
       "remote_ratio     4.070913e+01\n",
       "dtype: float64"
      ]
     },
     "execution_count": 26,
     "metadata": {},
     "output_type": "execute_result"
    }
   ],
   "source": [
    "#standard Divatiation\n",
    "standard_deviation= data.std()\n",
    "standard_deviation"
   ]
  },
  {
   "cell_type": "code",
   "execution_count": 27,
   "metadata": {},
   "outputs": [
    {
     "data": {
      "text/plain": [
       "Unnamed: 0          303.0\n",
       "work_year          2022.0\n",
       "salary           115000.0\n",
       "salary_in_usd    101570.0\n",
       "remote_ratio        100.0\n",
       "Name: 0.5, dtype: float64"
      ]
     },
     "execution_count": 27,
     "metadata": {},
     "output_type": "execute_result"
    }
   ],
   "source": [
    "#precentail in 50%\n",
    "Percentile=data.quantile(q=0.5, axis=0,numeric_only=True,interpolation='linear')\n",
    "Percentile"
   ]
  },
  {
   "cell_type": "code",
   "execution_count": 28,
   "metadata": {},
   "outputs": [
    {
     "data": {
      "text/plain": [
       "Unnamed: 0         151.5\n",
       "work_year         2021.0\n",
       "salary           70000.0\n",
       "salary_in_usd    62726.0\n",
       "remote_ratio        50.0\n",
       "Name: 0.25, dtype: float64"
      ]
     },
     "execution_count": 28,
     "metadata": {},
     "output_type": "execute_result"
    }
   ],
   "source": [
    "#precentail in 25%\n",
    "Percentile=data.quantile(q=0.25, axis=0,numeric_only=True,interpolation='linear')\n",
    "Percentile"
   ]
  }
 ],
 "metadata": {
  "kernelspec": {
   "display_name": "Python 3",
   "language": "python",
   "name": "python3"
  },
  "language_info": {
   "codemirror_mode": {
    "name": "ipython",
    "version": 3
   },
   "file_extension": ".py",
   "mimetype": "text/x-python",
   "name": "python",
   "nbconvert_exporter": "python",
   "pygments_lexer": "ipython3",
   "version": "3.11.2"
  },
  "orig_nbformat": 4
 },
 "nbformat": 4,
 "nbformat_minor": 2
}
