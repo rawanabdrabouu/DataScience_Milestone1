{
 "cells": [
  {
   "cell_type": "code",
   "execution_count": 1,
   "metadata": {},
   "outputs": [
    {
     "name": "stdout",
     "output_type": "stream",
     "text": [
      "   Unnamed: 0  work_year experience_level employment_type  \\\n",
      "0           0       2020               MI              FT   \n",
      "1           1       2020               SE              FT   \n",
      "2           2       2020               SE              FT   \n",
      "3           3       2020               MI              FT   \n",
      "4           4       2020               SE              FT   \n",
      "5           5       2020               EN              FT   \n",
      "6           6       2020               SE              FT   \n",
      "7           7       2020               MI              FT   \n",
      "8           8       2020               MI              FT   \n",
      "9           9       2020               SE              FT   \n",
      "\n",
      "                    job_title    salary salary_currency  salary_in_usd  \\\n",
      "0              Data Scientist     70000             EUR          79833   \n",
      "1  Machine Learning Scientist    260000             USD         260000   \n",
      "2           Big Data Engineer     85000             GBP         109024   \n",
      "3        Product Data Analyst     20000             USD          20000   \n",
      "4   Machine Learning Engineer    150000             USD         150000   \n",
      "5                Data Analyst     72000             USD          72000   \n",
      "6         Lead Data Scientist    190000             USD         190000   \n",
      "7              Data Scientist  11000000             HUF          35735   \n",
      "8       Business Data Analyst    135000             USD         135000   \n",
      "9          Lead Data Engineer    125000             USD         125000   \n",
      "\n",
      "  employee_residence  remote_ratio company_location company_size  \n",
      "0                 DE             0               DE            L  \n",
      "1                 JP             0               JP            S  \n",
      "2                 GB            50               GB            M  \n",
      "3                 HN             0               HN            S  \n",
      "4                 US            50               US            L  \n",
      "5                 US           100               US            L  \n",
      "6                 US           100               US            S  \n",
      "7                 HU            50               HU            L  \n",
      "8                 US           100               US            L  \n",
      "9                 NZ            50               NZ            S  \n"
     ]
    }
   ],
   "source": [
    "import pandas as pd\n",
    "import numpy as np\n",
    "#show first 10 rows\n",
    "data = pd.read_csv('ds_salaries.csv')\n",
    "result = data.head(10)\n",
    "print(result)\n"
   ]
  },
  {
   "cell_type": "code",
   "execution_count": 2,
   "metadata": {},
   "outputs": [
    {
     "name": "stdout",
     "output_type": "stream",
     "text": [
      "     Unnamed: 0  work_year experience_level employment_type  \\\n",
      "0             0       2020               MI              FT   \n",
      "1             1       2020               SE              FT   \n",
      "2             2       2020               SE              FT   \n",
      "3             3       2020               MI              FT   \n",
      "4             4       2020               SE              FT   \n",
      "..          ...        ...              ...             ...   \n",
      "592         592       2022               SE              FT   \n",
      "593         593       2022               SE              FT   \n",
      "594         594       2022               SE              FT   \n",
      "595         595       2022               SE              FT   \n",
      "596         596       2022               SE              FT   \n",
      "\n",
      "                      job_title  salary salary_currency  salary_in_usd  \\\n",
      "0                Data Scientist   70000             EUR          79833   \n",
      "1    Machine Learning Scientist  260000             USD         260000   \n",
      "2             Big Data Engineer   85000             GBP         109024   \n",
      "3          Product Data Analyst   20000             USD          20000   \n",
      "4     Machine Learning Engineer  150000             USD         150000   \n",
      "..                          ...     ...             ...            ...   \n",
      "592              Data Scientist  230000             USD         230000   \n",
      "593              Data Scientist  150000             USD         150000   \n",
      "594      Data Analytics Manager  150260             USD         150260   \n",
      "595      Data Analytics Manager  109280             USD         109280   \n",
      "596              Data Scientist  210000             USD         210000   \n",
      "\n",
      "    employee_residence  remote_ratio company_location company_size  \n",
      "0                   DE             0               DE            L  \n",
      "1                   JP             0               JP            S  \n",
      "2                   GB            50               GB            M  \n",
      "3                   HN             0               HN            S  \n",
      "4                   US            50               US            L  \n",
      "..                 ...           ...              ...          ...  \n",
      "592                 US           100               US            M  \n",
      "593                 US           100               US            M  \n",
      "594                 US           100               US            M  \n",
      "595                 US           100               US            M  \n",
      "596                 US           100               US            M  \n",
      "\n",
      "[597 rows x 12 columns]\n"
     ]
    }
   ],
   "source": [
    "#show last 10 rows\n",
    "result = data.head(-10)\n",
    "print(result)"
   ]
  },
  {
   "cell_type": "code",
   "execution_count": 3,
   "metadata": {},
   "outputs": [
    {
     "name": "stdout",
     "output_type": "stream",
     "text": [
      "607\n",
      "12\n"
     ]
    }
   ],
   "source": [
    "row_count = len(data) # Return number of rows\n",
    "print(row_count)\n",
    "col_count = len(data.columns)#Return number of Coulmns\n",
    "print(col_count)"
   ]
  },
  {
   "cell_type": "code",
   "execution_count": 4,
   "metadata": {},
   "outputs": [
    {
     "name": "stdout",
     "output_type": "stream",
     "text": [
      "Unnamed: 0\n",
      "work_year\n",
      "experience_level\n",
      "employment_type\n",
      "job_title\n",
      "salary\n",
      "salary_currency\n",
      "salary_in_usd\n",
      "employee_residence\n",
      "remote_ratio\n",
      "company_location\n",
      "company_size\n"
     ]
    }
   ],
   "source": [
    "#print coulmns names\n",
    "for col_name in data.columns: \n",
    "    print(col_name)"
   ]
  },
  {
   "cell_type": "code",
   "execution_count": 8,
   "metadata": {},
   "outputs": [
    {
     "data": {
      "text/plain": [
       "'company_size'"
      ]
     },
     "execution_count": 8,
     "metadata": {},
     "output_type": "execute_result"
    }
   ],
   "source": [
    "#last coulmn name\n",
    "data.columns[-1]"
   ]
  },
  {
   "cell_type": "code",
   "execution_count": 10,
   "metadata": {},
   "outputs": [
    {
     "data": {
      "text/plain": [
       "dtype('O')"
      ]
     },
     "execution_count": 10,
     "metadata": {},
     "output_type": "execute_result"
    }
   ],
   "source": [
    "#4th coulmn type\n",
    "data.dtypes[4]\n"
   ]
  }
 ],
 "metadata": {
  "kernelspec": {
   "display_name": "Python 3",
   "language": "python",
   "name": "python3"
  },
  "language_info": {
   "codemirror_mode": {
    "name": "ipython",
    "version": 3
   },
   "file_extension": ".py",
   "mimetype": "text/x-python",
   "name": "python",
   "nbconvert_exporter": "python",
   "pygments_lexer": "ipython3",
   "version": "3.11.2"
  },
  "orig_nbformat": 4
 },
 "nbformat": 4,
 "nbformat_minor": 2
}
